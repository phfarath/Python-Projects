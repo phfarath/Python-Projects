{
 "cells": [
  {
   "cell_type": "code",
   "execution_count": 1,
   "metadata": {},
   "outputs": [],
   "source": [
    "notas_turma = ['João', 8.0, 9.0, 10.0, 'Maria', 9.0, 7.0, 6.0, 'José', 3.4, 7.0, 7.0, 'Cláudia', 5.5, 6.6, 8.0, 'Ana', 6.0, 10.0, 9.5]"
   ]
  },
  {
   "cell_type": "code",
   "execution_count": 3,
   "metadata": {},
   "outputs": [
    {
     "name": "stdout",
     "output_type": "stream",
     "text": [
      "['João', 'Maria', 'José', 'Cláudia', 'Ana']\n",
      "[8.0, 9.0, 10.0, 9.0, 7.0, 6.0, 3.4, 7.0, 7.0, 5.5, 6.6, 8.0, 6.0, 10.0, 9.5]\n"
     ]
    }
   ],
   "source": [
    "nomes = []\n",
    "notas_juntas = []\n",
    "\n",
    "for i in range(len(notas_turma)):\n",
    "    if i % 4 == 0:\n",
    "        nomes.append(notas_turma[i])\n",
    "    else:\n",
    "        notas_juntas.append(notas_turma[i])\n",
    "\n",
    "\n",
    "print(nomes)\n",
    "print(notas_juntas)"
   ]
  },
  {
   "cell_type": "code",
   "execution_count": 4,
   "metadata": {},
   "outputs": [
    {
     "data": {
      "text/plain": [
       "[[8.0, 9.0, 10.0],\n",
       " [9.0, 7.0, 6.0],\n",
       " [3.4, 7.0, 7.0],\n",
       " [5.5, 6.6, 8.0],\n",
       " [6.0, 10.0, 9.5]]"
      ]
     },
     "execution_count": 4,
     "metadata": {},
     "output_type": "execute_result"
    }
   ],
   "source": [
    "notas = []\n",
    "\n",
    "for i in range(0, len(notas_juntas), 3):\n",
    "    notas.append([notas_juntas[i], notas_juntas[i+1], notas_juntas[i+2]])\n",
    "\n",
    "notas"
   ]
  },
  {
   "cell_type": "code",
   "execution_count": 6,
   "metadata": {},
   "outputs": [
    {
     "data": {
      "text/plain": [
       "10.0"
      ]
     },
     "execution_count": 6,
     "metadata": {},
     "output_type": "execute_result"
    }
   ],
   "source": [
    "notas[0][2]"
   ]
  },
  {
   "cell_type": "markdown",
   "metadata": {},
   "source": [
    "### EXEMPLO"
   ]
  },
  {
   "cell_type": "code",
   "execution_count": 7,
   "metadata": {},
   "outputs": [
    {
     "name": "stdout",
     "output_type": "stream",
     "text": [
      "A estudante Júlia tem 23 anos e mora em São Paulo-SP. Ela está matriculada na turma de Python para DS 1.\n"
     ]
    }
   ],
   "source": [
    "cadastro = (\"Júlia\", 23, \"São Paulo\", \"SP\", \"Python para DS 1\")\n",
    "nome, idade, cidade, estado, turma = cadastro\n",
    "print(f'A estudante {nome} tem {idade} anos e mora em {cidade}-{estado}. Ela está matriculada na turma de {turma}.')"
   ]
  },
  {
   "cell_type": "markdown",
   "metadata": {},
   "source": [
    "TUPLAS"
   ]
  },
  {
   "cell_type": "code",
   "execution_count": 8,
   "metadata": {},
   "outputs": [
    {
     "data": {
      "text/plain": [
       "['João', 'Maria', 'José', 'Cláudia', 'Ana']"
      ]
     },
     "execution_count": 8,
     "metadata": {},
     "output_type": "execute_result"
    }
   ],
   "source": [
    "estudantes = [\"João\", \"Maria\", \"José\", \"Cláudia\", \"Ana\"]\n",
    "estudantes"
   ]
  },
  {
   "cell_type": "code",
   "execution_count": 9,
   "metadata": {},
   "outputs": [],
   "source": [
    "from random import randint\n",
    "\n",
    "def gera_codigo():\n",
    "    return str(randint(0,999))"
   ]
  },
  {
   "cell_type": "code",
   "execution_count": 11,
   "metadata": {},
   "outputs": [
    {
     "data": {
      "text/plain": [
       "[('João', 'J886'),\n",
       " ('Maria', 'M709'),\n",
       " ('José', 'J596'),\n",
       " ('Cláudia', 'C460'),\n",
       " ('Ana', 'A762')]"
      ]
     },
     "execution_count": 11,
     "metadata": {},
     "output_type": "execute_result"
    }
   ],
   "source": [
    "codigo_estudantes = []\n",
    "\n",
    "for i in range(len(estudantes)):\n",
    "    codigo_estudantes.append((estudantes[i], estudantes[i][0] + gera_codigo()))\n",
    "\n",
    "codigo_estudantes"
   ]
  },
  {
   "cell_type": "markdown",
   "metadata": {},
   "source": [
    "LIST COMPREHENSION"
   ]
  },
  {
   "cell_type": "code",
   "execution_count": 12,
   "metadata": {},
   "outputs": [],
   "source": [
    "notas = [[8.0, 9.0, 10.0], [9.0, 7.0, 6.0], [3.4, 7.0, 7.0], [5.5, 6.6, 8.0], [6.0, 10.0, 9.5]]"
   ]
  },
  {
   "cell_type": "code",
   "execution_count": 14,
   "metadata": {},
   "outputs": [],
   "source": [
    "def media(lista: list=[0]) -> float:\n",
    "  ''' Função para calcular a média de notas passadas por uma lista\n",
    "\n",
    "  lista: list, default [0]\n",
    "    Lista com as notas para calcular a média\n",
    "  return = calculo: float\n",
    "    Média calculada\n",
    "  '''\n",
    "  \n",
    "  calculo = sum(lista) / len(lista)\n",
    "\n",
    "  return calculo"
   ]
  },
  {
   "cell_type": "code",
   "execution_count": 17,
   "metadata": {},
   "outputs": [
    {
     "data": {
      "text/plain": [
       "[9.0, 7.3, 5.8, 6.7, 8.5]"
      ]
     },
     "execution_count": 17,
     "metadata": {},
     "output_type": "execute_result"
    }
   ],
   "source": [
    "medias = [round(media(nota),1) for nota in notas]\n",
    "medias"
   ]
  },
  {
   "cell_type": "code",
   "execution_count": 18,
   "metadata": {},
   "outputs": [],
   "source": [
    "nomes = [('João', 'J720'), ('Maria', 'M205'), ('José', 'J371'), ('Cláudia', 'C546'), ('Ana', 'A347')]\n",
    "medias = [9.0, 7.3, 5.8, 6.7, 8.5]"
   ]
  },
  {
   "cell_type": "code",
   "execution_count": 19,
   "metadata": {},
   "outputs": [
    {
     "data": {
      "text/plain": [
       "['João', 'Maria', 'José', 'Cláudia', 'Ana']"
      ]
     },
     "execution_count": 19,
     "metadata": {},
     "output_type": "execute_result"
    }
   ],
   "source": [
    "nomes = [nome[0] for nome in nomes]\n",
    "nomes"
   ]
  },
  {
   "cell_type": "code",
   "execution_count": 23,
   "metadata": {},
   "outputs": [
    {
     "data": {
      "text/plain": [
       "[('João', 9.0), ('Maria', 7.3), ('José', 5.8), ('Cláudia', 6.7), ('Ana', 8.5)]"
      ]
     },
     "execution_count": 23,
     "metadata": {},
     "output_type": "execute_result"
    }
   ],
   "source": [
    "estudantes = list(zip(nomes, medias))\n",
    "estudantes"
   ]
  },
  {
   "cell_type": "code",
   "execution_count": 25,
   "metadata": {},
   "outputs": [
    {
     "data": {
      "text/plain": [
       "['João', 'Ana']"
      ]
     },
     "execution_count": 25,
     "metadata": {},
     "output_type": "execute_result"
    }
   ],
   "source": [
    "candidatos_bolsa = [estudante[0] for estudante in estudantes if estudante[1]>= 8.0]\n",
    "candidatos_bolsa"
   ]
  },
  {
   "cell_type": "markdown",
   "metadata": {},
   "source": [
    "LIST COMPREHENSION COM IF-ELSE"
   ]
  },
  {
   "cell_type": "code",
   "execution_count": 26,
   "metadata": {},
   "outputs": [],
   "source": [
    "nomes = [('João', 'J720'), ('Maria', 'M205'), ('José', 'J371'), ('Cláudia', 'C546'), ('Ana', 'A347')]\n",
    "notas = [[8.0, 9.0, 10.0], [9.0, 7.0, 6.0], [3.4, 7.0, 7.0], [5.5, 6.6, 8.0], [6.0, 10.0, 9.5]]\n",
    "medias = [9.0, 7.3, 5.8, 6.7, 8.5]"
   ]
  },
  {
   "cell_type": "code",
   "execution_count": 27,
   "metadata": {},
   "outputs": [
    {
     "data": {
      "text/plain": [
       "['Aprovado', 'Aprovado', 'Reprovado', 'Aprovado', 'Aprovado']"
      ]
     },
     "execution_count": 27,
     "metadata": {},
     "output_type": "execute_result"
    }
   ],
   "source": [
    "situacao = [\"Aprovado\" if media>= 6 else \"Reprovado\" for media in medias]\n",
    "situacao"
   ]
  },
  {
   "cell_type": "code",
   "execution_count": 32,
   "metadata": {},
   "outputs": [
    {
     "data": {
      "text/plain": [
       "[[('João', 'J720'),\n",
       "  ('Maria', 'M205'),\n",
       "  ('José', 'J371'),\n",
       "  ('Cláudia', 'C546'),\n",
       "  ('Ana', 'A347')],\n",
       " [[8.0, 9.0, 10.0],\n",
       "  [9.0, 7.0, 6.0],\n",
       "  [3.4, 7.0, 7.0],\n",
       "  [5.5, 6.6, 8.0],\n",
       "  [6.0, 10.0, 9.5]],\n",
       " [9.0, 7.3, 5.8, 6.7, 8.5],\n",
       " ['Aprovado', 'Aprovado', 'Reprovado', 'Aprovado', 'Aprovado']]"
      ]
     },
     "execution_count": 32,
     "metadata": {},
     "output_type": "execute_result"
    }
   ],
   "source": [
    "lista_completa = [nomes, notas, medias, situacao]\n",
    "lista_completa"
   ]
  },
  {
   "cell_type": "markdown",
   "metadata": {},
   "source": [
    "DICIONARIOS"
   ]
  },
  {
   "cell_type": "code",
   "execution_count": 33,
   "metadata": {},
   "outputs": [],
   "source": [
    "lista_completa = [[('João', 'J720'), ('Maria', 'M205'), ('José', 'J371'), ('Cláudia', 'C546'), ('Ana', 'A347')],\n",
    "                  [[8.0, 9.0, 10.0], [9.0, 7.0, 6.0], [3.4, 7.0, 7.0], [5.5, 6.6, 8.0], [6.0, 10.0, 9.5]],\n",
    "                  [9.0, 7.3, 5.8, 6.7, 8.5],\n",
    "                  ['Aprovado', 'Aprovado', 'Reprovado', 'Aprovado', 'Aprovado']]"
   ]
  },
  {
   "cell_type": "code",
   "execution_count": 36,
   "metadata": {},
   "outputs": [
    {
     "data": {
      "text/plain": [
       "{'Notas': [[8.0, 9.0, 10.0],\n",
       "  [9.0, 7.0, 6.0],\n",
       "  [3.4, 7.0, 7.0],\n",
       "  [5.5, 6.6, 8.0],\n",
       "  [6.0, 10.0, 9.5]],\n",
       " 'Médias': [9.0, 7.3, 5.8, 6.7, 8.5],\n",
       " 'Situação': ['Aprovado', 'Aprovado', 'Reprovado', 'Aprovado', 'Aprovado']}"
      ]
     },
     "execution_count": 36,
     "metadata": {},
     "output_type": "execute_result"
    }
   ],
   "source": [
    "colunas = ['Notas', 'Médias', 'Situação']\n",
    "\n",
    "# cadastro = {chave: valor for item in lista}\n",
    "cadastro = {colunas[i]: lista_completa[i+1] for i in range(len(colunas))}\n",
    "cadastro"
   ]
  },
  {
   "cell_type": "code",
   "execution_count": 37,
   "metadata": {},
   "outputs": [
    {
     "data": {
      "text/plain": [
       "{'Notas': [[8.0, 9.0, 10.0],\n",
       "  [9.0, 7.0, 6.0],\n",
       "  [3.4, 7.0, 7.0],\n",
       "  [5.5, 6.6, 8.0],\n",
       "  [6.0, 10.0, 9.5]],\n",
       " 'Médias': [9.0, 7.3, 5.8, 6.7, 8.5],\n",
       " 'Situação': ['Aprovado', 'Aprovado', 'Reprovado', 'Aprovado', 'Aprovado'],\n",
       " 'Estudante': ['João', 'Maria', 'José', 'Cláudia', 'Ana']}"
      ]
     },
     "execution_count": 37,
     "metadata": {},
     "output_type": "execute_result"
    }
   ],
   "source": [
    "# cadastro['Estudante'] = [exp for item in lista] \n",
    "cadastro['Estudante'] = [lista_completa[0][i][0] for i in range(len(lista_completa[0]))] \n",
    "cadastro"
   ]
  }
 ],
 "metadata": {
  "kernelspec": {
   "display_name": "base",
   "language": "python",
   "name": "python3"
  },
  "language_info": {
   "codemirror_mode": {
    "name": "ipython",
    "version": 3
   },
   "file_extension": ".py",
   "mimetype": "text/x-python",
   "name": "python",
   "nbconvert_exporter": "python",
   "pygments_lexer": "ipython3",
   "version": "3.11.7"
  }
 },
 "nbformat": 4,
 "nbformat_minor": 2
}
