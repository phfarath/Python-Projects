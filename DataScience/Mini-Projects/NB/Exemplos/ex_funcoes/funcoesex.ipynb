{
 "cells": [
  {
   "cell_type": "markdown",
   "metadata": {},
   "source": [
    "## 1º Exercicio\n",
    "#### Escreva um código que lê a lista abaixo e faça:\n",
    "\n",
    "#### - A leitura do tamanho da lista\n",
    "#### - A leitura do maior e menor valor\n",
    "#### - A soma dos valores da lista"
   ]
  },
  {
   "cell_type": "code",
   "execution_count": 1,
   "metadata": {},
   "outputs": [],
   "source": [
    "lista = [16, 14, 63, 65, 17, 99, 70, 11, 20, 48, 79, 32, 17, 89, 12, 25, 66]"
   ]
  },
  {
   "cell_type": "code",
   "execution_count": 5,
   "metadata": {},
   "outputs": [],
   "source": [
    "def tamanho_lista(lista):\n",
    "    return len(lista)\n",
    "\n",
    "def maior_lista(lista):\n",
    "    return max(lista)\n",
    "\n",
    "def menor_lista(lista):\n",
    "    return min(lista)\n",
    "\n",
    "def sum_lista(lista):\n",
    "    return sum(lista)"
   ]
  },
  {
   "cell_type": "code",
   "execution_count": 6,
   "metadata": {},
   "outputs": [
    {
     "name": "stdout",
     "output_type": "stream",
     "text": [
      "A lista possui 17 números em que o maior número é 99 e o menor número é 11. A soma dos valores presentes nela é igual a 743\n"
     ]
    }
   ],
   "source": [
    "print(f'A lista possui {tamanho_lista(lista)} números em que o maior número é {maior_lista(lista)} e o menor número é {menor_lista(lista)}. A soma dos valores presentes nela é igual a {sum_lista(lista)}')"
   ]
  },
  {
   "cell_type": "markdown",
   "metadata": {},
   "source": [
    "## 2. Exercicio\n",
    "\n",
    "#### Escreva uma função que gere a tabuada de um número inteiro de 1 a 10, de acordo com a escolha da pessoa usuária."
   ]
  },
  {
   "cell_type": "code",
   "execution_count": 12,
   "metadata": {},
   "outputs": [],
   "source": [
    "def cria_tabuada(numero):\n",
    "    for i in range(0, 11):\n",
    "        print(f'{numero} x {i} = {numero*i}')"
   ]
  },
  {
   "cell_type": "code",
   "execution_count": 13,
   "metadata": {},
   "outputs": [
    {
     "name": "stdout",
     "output_type": "stream",
     "text": [
      "3 x 0 = 0\n",
      "3 x 1 = 3\n",
      "3 x 2 = 6\n",
      "3 x 3 = 9\n",
      "3 x 4 = 12\n",
      "3 x 5 = 15\n",
      "3 x 6 = 18\n",
      "3 x 7 = 21\n",
      "3 x 8 = 24\n",
      "3 x 9 = 27\n",
      "3 x 10 = 30\n",
      "None\n"
     ]
    }
   ],
   "source": [
    "numero = int(input('Digite um numero: '))\n",
    "print(cria_tabuada(numero))"
   ]
  },
  {
   "cell_type": "markdown",
   "metadata": {},
   "source": [
    "## 3º. Exercicio\n",
    "\n",
    "#### Crie a função que leia a lista abaixo e retorne uma nova lista com os múltiplos de 3\n",
    "#### Utilize o return na função e salve a nova lista na variável mult_3."
   ]
  },
  {
   "cell_type": "code",
   "execution_count": 14,
   "metadata": {},
   "outputs": [],
   "source": [
    "lista = [97, 80, 94, 88, 80, 1, 16, 53, 62, 32, 24, 99]"
   ]
  },
  {
   "cell_type": "code",
   "execution_count": 15,
   "metadata": {},
   "outputs": [],
   "source": [
    "def lista_mult_tres(lista):\n",
    "    mult_3 = []\n",
    "    for i in lista:\n",
    "        if i%3 == 0:\n",
    "            mult_3.append(i)\n",
    "    return mult_3"
   ]
  },
  {
   "cell_type": "code",
   "execution_count": 16,
   "metadata": {},
   "outputs": [
    {
     "data": {
      "text/plain": [
       "[24, 99]"
      ]
     },
     "execution_count": 16,
     "metadata": {},
     "output_type": "execute_result"
    }
   ],
   "source": [
    "lista_mult_tres(lista)"
   ]
  },
  {
   "cell_type": "markdown",
   "metadata": {},
   "source": [
    "## 4º. Exercicio\n",
    "\n",
    "#### Crie uma lista dos quadrados dos números da seguinte lista [1, 2, 3, 4, 5, 6, 7, 8, 9, 10]. Lembre-se de utilizar as funções lambda e map() para calcular o quadrado de cada elemento da lista."
   ]
  },
  {
   "cell_type": "code",
   "execution_count": 17,
   "metadata": {},
   "outputs": [
    {
     "data": {
      "text/plain": [
       "[1, 4, 9, 16, 25, 36, 49, 64, 81, 100]"
      ]
     },
     "execution_count": 17,
     "metadata": {},
     "output_type": "execute_result"
    }
   ],
   "source": [
    "lista = [1, 2, 3, 4, 5, 6, 7, 8, 9, 10]\n",
    "\n",
    "quadrados = map(lambda x: x**2, lista)\n",
    "quadrados = list(quadrados)\n",
    "quadrados"
   ]
  },
  {
   "cell_type": "markdown",
   "metadata": {},
   "source": [
    "## 5º. Exercicio\n",
    "\n",
    "#### 5. Você foi contratado(a) como cientista de dados de uma associação de skate. Para analisar as notas recebidas de skatistas em algumas competições ao longo do ano, você precisa criar um código que calcula a pontuação dos(as) atletas. Para isso, o seu código deve receber 5 notas digitadas pelas pessoas juradas.\n",
    "\n",
    "#### Para calcular a pontuação de um(a) skatista, você precisa eliminar a maior e a menor pontuação dentre as 5 notas e tirar a média das 3 notas que sobraram. Retorne a média para apresentar o texto:\n",
    "\n",
    "#### \"Nota da manobra: [media]\""
   ]
  },
  {
   "cell_type": "code",
   "execution_count": 29,
   "metadata": {},
   "outputs": [],
   "source": [
    "def calcula_nota_manobra(n1,n2,n3,n4,n5):\n",
    "    lista_notas = []\n",
    "    lista_notas.append(n1)\n",
    "    lista_notas.append(n2)\n",
    "    lista_notas.append(n3)\n",
    "    lista_notas.append(n4)\n",
    "    lista_notas.append(n5)\n",
    "\n",
    "    lista_notas.remove(min(lista_notas))\n",
    "    lista_notas.remove(max(lista_notas))\n",
    "\n",
    "    media_notas = sum(lista_notas)/3\n",
    "\n",
    "    return media_notas"
   ]
  },
  {
   "cell_type": "code",
   "execution_count": 31,
   "metadata": {},
   "outputs": [
    {
     "data": {
      "text/plain": [
       "5.333333333333333"
      ]
     },
     "execution_count": 31,
     "metadata": {},
     "output_type": "execute_result"
    }
   ],
   "source": [
    "n1 = float(input('Digite a 1º nota: '))\n",
    "n2 = float(input('Digite a 2º nota: '))\n",
    "n3 = float(input('Digite a 3º nota: '))\n",
    "n4 = float(input('Digite a 4º nota: '))\n",
    "n5 = float(input('Digite a 5º nota: '))\n",
    "calcula_nota_manobra(n1,n2,n3,n4,n5)"
   ]
  },
  {
   "cell_type": "markdown",
   "metadata": {},
   "source": [
    "## 6º Exercicio\n",
    "\n",
    "#### Para atender a uma demanda de uma instituição de ensino para a análise do desempenho de seus(suas) estudantes, você precisa criar uma função que receba uma lista de 4 notas e retorne:\n",
    "\n",
    "#### maior nota\n",
    "#### menor nota\n",
    "#### média\n",
    "#### situação (Aprovado(a) ou Reprovado(a))\n",
    "#### Para testar o comportamento da função, os dados podem ser exibidos em um texto:\n",
    "#### \"O(a) estudante obteve uma média de [media], com a sua maior nota de [maior] pontos e a menor nota de [menor] pontos e foi [situacao]\""
   ]
  },
  {
   "cell_type": "code",
   "execution_count": 36,
   "metadata": {},
   "outputs": [],
   "source": [
    "def calcula_aprovacao(lista):\n",
    "    maior_nota = max(lista)\n",
    "    menor_nota = min(lista)\n",
    "    media = sum(lista)/ len(lista)\n",
    "    if media >= 6:\n",
    "        situacao = 'Aprovado'\n",
    "    else:\n",
    "        situacao = 'Reprovado'\n",
    "    return print(f'Maior Nota: {maior_nota}\\nMenor Nota: {menor_nota}\\nMédia Final: {media}\\nSituação: {situacao}')"
   ]
  },
  {
   "cell_type": "code",
   "execution_count": 34,
   "metadata": {},
   "outputs": [],
   "source": [
    "lista_notas = []\n",
    "n1 = float(input('Digite a 1º nota: '))\n",
    "n2 = float(input('Digite a 2º nota: '))\n",
    "n3 = float(input('Digite a 3º nota: '))\n",
    "n4 = float(input('Digite a 4º nota: '))\n",
    "lista_notas.append(n1)\n",
    "lista_notas.append(n2)\n",
    "lista_notas.append(n3)\n",
    "lista_notas.append(n4)"
   ]
  },
  {
   "cell_type": "code",
   "execution_count": 37,
   "metadata": {},
   "outputs": [
    {
     "name": "stdout",
     "output_type": "stream",
     "text": [
      "Maior Nota: 9.0\n",
      "Menor Nota: 4.0\n",
      "Média Final: 6.0\n",
      "Situação: Aprovado\n"
     ]
    }
   ],
   "source": [
    "calcula_aprovacao(lista_notas)"
   ]
  },
  {
   "cell_type": "markdown",
   "metadata": {},
   "source": [
    "## 7º. Exercicio\n",
    "\n",
    "#### Você recebeu uma demanda para tratar 2 listas com os nomes e sobrenomes de cada estudante concatenando-as para apresentar seus nomes completos na forma Nome Sobrenome. As listas são:\n",
    "\n",
    "#### nomes = [\"joão\", \"MaRia\", \"JOSÉ\"]\n",
    "#### sobrenomes = [\"SILVA\", \"souza\", \"Tavares\"]\n",
    "\n",
    "#### O texto exibido ao fim deve ser parecido com:\n",
    "#### \"Nome completo: Ana Silva\"\n",
    "\n",
    "#### Dica: utilize a função map para mapear os nomes e sobrenomes e as funções de string para tratar o texto."
   ]
  },
  {
   "cell_type": "markdown",
   "metadata": {},
   "source": [
    "## 8º Exercicio\n",
    "\n",
    "#### Como cientista de dados em um time de futebol, você precisa implementar novas formas de coleta de dados sobre o desempenho de jogadores e do time como um todo. Sua primeira ação é criar uma forma de calcular a pontuação do time no campeonato nacional a partir dos dados de gols marcados e sofridos em cada jogo.\n",
    "\n",
    "#### Escreva uma função chamada calcula_pontos que recebe como parâmetros duas listas de números inteiros, representando os gols marcados e sofridos pelo time em cada partida do campeonato. A função deve retornar a pontuação do time e o aproveitamento em percentual, levando em consideração que a vitória vale 3 pontos, o empate vale 1 ponto e a derrota 0 pontos.\n",
    "\n",
    "#### Observação: se a quantidade de gols marcados numa partida for maior que a de sofridos, o time venceu. Caso seja igual, o time empatou e se for menor, o time perdeu. Para calcular o aproveitamento devemos fazer a razão entre a pontuação do time pela pontuação máxima que ele poderia receber.\n",
    "\n",
    "#### Para teste, utilize as seguintes listas de gols marcados e sofridos:\n",
    "\n",
    "#### gols_marcados = [2, 1, 3, 1, 0]\n",
    "#### gols_sofridos = [1, 2, 2, 1, 3]\n",
    "\n",
    "#### Provável texto exibido:\n",
    "\n",
    "#### \"A pontuação do time foi de [pontos] e seu aproveitamento foi de [aprov]%\""
   ]
  },
  {
   "cell_type": "markdown",
   "metadata": {},
   "source": [
    "## 9º Exercicio\n",
    "\n",
    "#### Você recebeu o desafio de criar um código que calcula os gastos de uma viagem para um das quatro cidades partindo de Recife, sendo elas: Salvador, Fortaleza, Natal e Aracaju.\n",
    "\n",
    "#### O custo da diária do hotel é de 150 reais em todas elas e o consumo de gasolina na viagem de carro é de 14 km/l, sendo que o valor da gasolina é de 5 reais o litro. O gastos com passeios e alimentação a se fazer em cada uma delas por dia seria de [200, 400, 250, 300], respectivamente.\n",
    "\n",
    "#### Sabendo que as distâncias entre Recife e cada uma das cidades é de aproximadamente [850, 800, 300, 550] km, crie três funções nas quais: a 1ª função calcule os gastos com hotel (gasto_hotel), a 2ª calcule os gastos com a gasolina (gasto_gasolina) e a 3ª os gastos com passeio e alimentação (gasto_passeio).\n",
    "\n",
    "#### Para testar, simule uma viagem de 3 dias para Salvador partindo de Recife. Considere a viagem de ida e volta de carro.\n",
    "\n",
    "#### \"Com base nos gastos definidos, uma viagem de [dias] dias para [cidade] saindo de Recife custaria [gastos] reais\""
   ]
  },
  {
   "cell_type": "markdown",
   "metadata": {},
   "source": [
    "## 10º Exercicio\n",
    "\n",
    "#### Você iniciou um estágio em uma empresa que trabalha com processamento de linguagem natural (NLP). Sua líder requisitou que você criasse um trecho de código que recebe uma frase digitada pela pessoa usuária e filtre apenas as palavras com tamanho maior ou igual a 5, exibindo-as em uma lista. Essa demanda é voltada para a análise do padrão de comportamento de pessoas na escrita de palavras acima dessa quantidade de caracteres.\n",
    "\n",
    "#### Dica: utilize as funções lambda e filter() para filtrar essas palavras. Lembrando que a função embutida filter() recebe uma função (no nosso exemplo uma função lambda) e filtra um iterável de acordo com a função. Para tratar a frase use replace() para trocar a ',' '.', '!' e '?' por espaço.\n",
    "\n",
    "#### Use a frase \"Aprender Python aqui é muito bom\" para testar o código."
   ]
  }
 ],
 "metadata": {
  "kernelspec": {
   "display_name": "base",
   "language": "python",
   "name": "python3"
  },
  "language_info": {
   "codemirror_mode": {
    "name": "ipython",
    "version": 3
   },
   "file_extension": ".py",
   "mimetype": "text/x-python",
   "name": "python",
   "nbconvert_exporter": "python",
   "pygments_lexer": "ipython3",
   "version": "3.11.7"
  }
 },
 "nbformat": 4,
 "nbformat_minor": 2
}
