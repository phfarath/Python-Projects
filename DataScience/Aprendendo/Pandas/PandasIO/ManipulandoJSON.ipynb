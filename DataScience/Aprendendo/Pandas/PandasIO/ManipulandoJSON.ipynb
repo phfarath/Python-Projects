{
 "cells": [
  {
   "cell_type": "code",
   "execution_count": 1,
   "metadata": {},
   "outputs": [],
   "source": [
    "import pandas as pd"
   ]
  },
  {
   "cell_type": "code",
   "execution_count": 3,
   "metadata": {},
   "outputs": [],
   "source": [
    "df = pd.read_json('dados_pacientes.json')"
   ]
  },
  {
   "cell_type": "code",
   "execution_count": 5,
   "metadata": {},
   "outputs": [],
   "source": [
    "df_normalizado = pd.json_normalize(df['Pacientes'])"
   ]
  },
  {
   "cell_type": "code",
   "execution_count": 6,
   "metadata": {},
   "outputs": [
    {
     "data": {
      "text/html": [
       "<div>\n",
       "<style scoped>\n",
       "    .dataframe tbody tr th:only-of-type {\n",
       "        vertical-align: middle;\n",
       "    }\n",
       "\n",
       "    .dataframe tbody tr th {\n",
       "        vertical-align: top;\n",
       "    }\n",
       "\n",
       "    .dataframe thead th {\n",
       "        text-align: right;\n",
       "    }\n",
       "</style>\n",
       "<table border=\"1\" class=\"dataframe\">\n",
       "  <thead>\n",
       "    <tr style=\"text-align: right;\">\n",
       "      <th></th>\n",
       "      <th>ID</th>\n",
       "      <th>Faixa_etaria</th>\n",
       "      <th>Sexo_biologico</th>\n",
       "      <th>Raça</th>\n",
       "      <th>IMC</th>\n",
       "      <th>Fumante</th>\n",
       "      <th>Consumo_alcool</th>\n",
       "      <th>Saude_fisica</th>\n",
       "      <th>Saude_mental</th>\n",
       "      <th>Dificuldade_caminhar</th>\n",
       "      <th>Atividade_fisica</th>\n",
       "      <th>Saude_geral</th>\n",
       "      <th>Horas_sono</th>\n",
       "      <th>Problemas_saude</th>\n",
       "    </tr>\n",
       "  </thead>\n",
       "  <tbody>\n",
       "    <tr>\n",
       "      <th>0</th>\n",
       "      <td>01</td>\n",
       "      <td>55-59</td>\n",
       "      <td>Feminino</td>\n",
       "      <td>Branca</td>\n",
       "      <td>16.60</td>\n",
       "      <td>Sim</td>\n",
       "      <td>Nao</td>\n",
       "      <td>3</td>\n",
       "      <td>30</td>\n",
       "      <td>Nao</td>\n",
       "      <td>Sim</td>\n",
       "      <td>Muito boa</td>\n",
       "      <td>5</td>\n",
       "      <td>[Diabetes, Asma, Cancer_pele]</td>\n",
       "    </tr>\n",
       "    <tr>\n",
       "      <th>1</th>\n",
       "      <td>02</td>\n",
       "      <td>80 ou +</td>\n",
       "      <td>Feminino</td>\n",
       "      <td>Branca</td>\n",
       "      <td>20.34</td>\n",
       "      <td>Nao</td>\n",
       "      <td>Nao</td>\n",
       "      <td>0</td>\n",
       "      <td>0</td>\n",
       "      <td>Nao</td>\n",
       "      <td>Sim</td>\n",
       "      <td>Muito boa</td>\n",
       "      <td>7</td>\n",
       "      <td>[AVC]</td>\n",
       "    </tr>\n",
       "    <tr>\n",
       "      <th>2</th>\n",
       "      <td>03</td>\n",
       "      <td>65-69</td>\n",
       "      <td>Masculino</td>\n",
       "      <td>Branca</td>\n",
       "      <td>26.58</td>\n",
       "      <td>Sim</td>\n",
       "      <td>Nao</td>\n",
       "      <td>20</td>\n",
       "      <td>30</td>\n",
       "      <td>Nao</td>\n",
       "      <td>Sim</td>\n",
       "      <td>Muito boa</td>\n",
       "      <td>8</td>\n",
       "      <td>[diabetes, Asma]</td>\n",
       "    </tr>\n",
       "  </tbody>\n",
       "</table>\n",
       "</div>"
      ],
      "text/plain": [
       "   ID Faixa_etaria Sexo_biologico    Raça    IMC Fumante Consumo_alcool  \\\n",
       "0  01        55-59       Feminino  Branca  16.60     Sim            Nao   \n",
       "1  02      80 ou +       Feminino  Branca  20.34     Nao            Nao   \n",
       "2  03        65-69      Masculino  Branca  26.58     Sim            Nao   \n",
       "\n",
       "   Saude_fisica  Saude_mental Dificuldade_caminhar Atividade_fisica  \\\n",
       "0             3            30                  Nao              Sim   \n",
       "1             0             0                  Nao              Sim   \n",
       "2            20            30                  Nao              Sim   \n",
       "\n",
       "  Saude_geral  Horas_sono                Problemas_saude  \n",
       "0   Muito boa           5  [Diabetes, Asma, Cancer_pele]  \n",
       "1   Muito boa           7                          [AVC]  \n",
       "2   Muito boa           8               [diabetes, Asma]  "
      ]
     },
     "execution_count": 6,
     "metadata": {},
     "output_type": "execute_result"
    }
   ],
   "source": [
    "df_normalizado"
   ]
  },
  {
   "cell_type": "code",
   "execution_count": null,
   "metadata": {},
   "outputs": [],
   "source": []
  }
 ],
 "metadata": {
  "kernelspec": {
   "display_name": "Python 3",
   "language": "python",
   "name": "python3"
  },
  "language_info": {
   "codemirror_mode": {
    "name": "ipython",
    "version": 3
   },
   "file_extension": ".py",
   "mimetype": "text/x-python",
   "name": "python",
   "nbconvert_exporter": "python",
   "pygments_lexer": "ipython3",
   "version": "3.12.3"
  }
 },
 "nbformat": 4,
 "nbformat_minor": 2
}
