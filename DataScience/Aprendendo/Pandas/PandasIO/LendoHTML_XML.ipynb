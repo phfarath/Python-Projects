{
 "cells": [
  {
   "cell_type": "code",
   "execution_count": 1,
   "metadata": {},
   "outputs": [],
   "source": [
    "import pandas as pd"
   ]
  },
  {
   "cell_type": "code",
   "execution_count": 2,
   "metadata": {},
   "outputs": [],
   "source": [
    "df = pd.read_html('https://en.wikipedia.org/wiki/AFI%27s_100_Years...100_Movies')"
   ]
  },
  {
   "cell_type": "code",
   "execution_count": 3,
   "metadata": {},
   "outputs": [
    {
     "data": {
      "text/plain": [
       "[       0                      1\n",
       " 0   1998             100 Movies\n",
       " 1   1999              100 Stars\n",
       " 2   2000             100 Laughs\n",
       " 3   2001            100 Thrills\n",
       " 4   2002           100 Passions\n",
       " 5   2003  100 Heroes & Villains\n",
       " 6   2004              100 Songs\n",
       " 7   2005       100 Movie Quotes\n",
       " 8   2005              25 Scores\n",
       " 9   2006             100 Cheers\n",
       " 10  2006            25 Musicals\n",
       " 11  2007   100 Movies (Updated)\n",
       " 12  2008        AFI's 10 Top 10\n",
       " 13   vte                    vte,\n",
       "                       Film  Release year              Director  \\\n",
       " 0             Citizen Kane          1941          Orson Welles   \n",
       " 1               Casablanca          1942        Michael Curtiz   \n",
       " 2            The Godfather          1972  Francis Ford Coppola   \n",
       " 3       Gone with the Wind          1939        Victor Fleming   \n",
       " 4       Lawrence of Arabia          1962            David Lean   \n",
       " ..                     ...           ...                   ...   \n",
       " 118        Sophie's Choice          1982        Alan J. Pakula   \n",
       " 119  The Last Picture Show          1971     Peter Bogdanovich   \n",
       " 120     Do the Right Thing          1989             Spike Lee   \n",
       " 121           Blade Runner          1982          Ridley Scott   \n",
       " 122              Toy Story          1995         John Lasseter   \n",
       " \n",
       "                               Production companies 1998 Rank 2007 Rank  \n",
       " 0                               RKO Radio Pictures         1         1  \n",
       " 1                            Warner Bros. Pictures         2         3  \n",
       " 2           Paramount Pictures, Alfran Productions         3         2  \n",
       " 3                  Selznick International Pictures         4         6  \n",
       " 4                                 Horizon Pictures         5         7  \n",
       " ..                                             ...       ...       ...  \n",
       " 118                              ITC Entertainment         -        91  \n",
       " 119                                BBS Productions         -        95  \n",
       " 120                  40 Acres and a Mule Filmworks         -        96  \n",
       " 121                The Ladd Company, Shaw Brothers         -        97  \n",
       " 122  Walt Disney Pictures, Pixar Animation Studios         -        99  \n",
       " \n",
       " [123 rows x 6 columns]]"
      ]
     },
     "execution_count": 3,
     "metadata": {},
     "output_type": "execute_result"
    }
   ],
   "source": [
    "df"
   ]
  },
  {
   "cell_type": "code",
   "execution_count": 4,
   "metadata": {},
   "outputs": [
    {
     "ename": "XMLSyntaxError",
     "evalue": "Specification mandates value for attribute crossorigin, line 24, column 76 (<string>, line 24)",
     "output_type": "error",
     "traceback": [
      "Traceback \u001b[1;36m(most recent call last)\u001b[0m:\n",
      "\u001b[0m  File \u001b[0;32m~\\AppData\\Roaming\\Python\\Python312\\site-packages\\IPython\\core\\interactiveshell.py:3577\u001b[0m in \u001b[0;35mrun_code\u001b[0m\n    exec(code_obj, self.user_global_ns, self.user_ns)\u001b[0m\n",
      "\u001b[0m  Cell \u001b[0;32mIn[4], line 1\u001b[0m\n    df_2 = pd.read_xml('https://github.com/alura-cursos/Pandas/blob/main/imdb_top_1000.xml')\u001b[0m\n",
      "\u001b[0m  File \u001b[0;32mc:\\Users\\pedro\\AppData\\Local\\Programs\\Python\\Python312\\Lib\\site-packages\\pandas\\io\\xml.py:1160\u001b[0m in \u001b[0;35mread_xml\u001b[0m\n    return _parse(\u001b[0m\n",
      "\u001b[0m  File \u001b[0;32mc:\\Users\\pedro\\AppData\\Local\\Programs\\Python\\Python312\\Lib\\site-packages\\pandas\\io\\xml.py:852\u001b[0m in \u001b[0;35m_parse\u001b[0m\n    data_dicts = p.parse_data()\u001b[0m\n",
      "\u001b[0m  File \u001b[0;32mc:\\Users\\pedro\\AppData\\Local\\Programs\\Python\\Python312\\Lib\\site-packages\\pandas\\io\\xml.py:556\u001b[0m in \u001b[0;35mparse_data\u001b[0m\n    self.xml_doc = self._parse_doc(self.path_or_buffer)\u001b[0m\n",
      "\u001b[0m  File \u001b[0;32mc:\\Users\\pedro\\AppData\\Local\\Programs\\Python\\Python312\\Lib\\site-packages\\pandas\\io\\xml.py:647\u001b[0m in \u001b[0;35m_parse_doc\u001b[0m\n    document = fromstring(\u001b[0m\n",
      "\u001b[0m  File \u001b[0;32msrc\\\\lxml\\\\etree.pyx:3307\u001b[0m in \u001b[0;35mlxml.etree.fromstring\u001b[0m\n",
      "\u001b[0m  File \u001b[0;32msrc\\\\lxml\\\\parser.pxi:1995\u001b[0m in \u001b[0;35mlxml.etree._parseMemoryDocument\u001b[0m\n",
      "\u001b[0m  File \u001b[0;32msrc\\\\lxml\\\\parser.pxi:1882\u001b[0m in \u001b[0;35mlxml.etree._parseDoc\u001b[0m\n",
      "\u001b[0m  File \u001b[0;32msrc\\\\lxml\\\\parser.pxi:1164\u001b[0m in \u001b[0;35mlxml.etree._BaseParser._parseDoc\u001b[0m\n",
      "\u001b[0m  File \u001b[0;32msrc\\\\lxml\\\\parser.pxi:633\u001b[0m in \u001b[0;35mlxml.etree._ParserContext._handleParseResultDoc\u001b[0m\n",
      "\u001b[0m  File \u001b[0;32msrc\\\\lxml\\\\parser.pxi:743\u001b[0m in \u001b[0;35mlxml.etree._handleParseResult\u001b[0m\n",
      "\u001b[1;36m  File \u001b[1;32msrc\\\\lxml\\\\parser.pxi:672\u001b[1;36m in \u001b[1;35mlxml.etree._raiseParseError\u001b[1;36m\n",
      "\u001b[1;36m  File \u001b[1;32m<string>:24\u001b[1;36m\u001b[0m\n\u001b[1;31mXMLSyntaxError\u001b[0m\u001b[1;31m:\u001b[0m Specification mandates value for attribute crossorigin, line 24, column 76\n"
     ]
    }
   ],
   "source": [
    "df_2 = pd.read_xml('https://github.com/alura-cursos/Pandas/blob/main/imdb_top_1000.xml')"
   ]
  }
 ],
 "metadata": {
  "kernelspec": {
   "display_name": "Python 3",
   "language": "python",
   "name": "python3"
  },
  "language_info": {
   "codemirror_mode": {
    "name": "ipython",
    "version": 3
   },
   "file_extension": ".py",
   "mimetype": "text/x-python",
   "name": "python",
   "nbconvert_exporter": "python",
   "pygments_lexer": "ipython3",
   "version": "3.12.3"
  }
 },
 "nbformat": 4,
 "nbformat_minor": 2
}
