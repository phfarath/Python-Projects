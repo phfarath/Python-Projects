{
 "cells": [
  {
   "cell_type": "markdown",
   "metadata": {},
   "source": [
    "# TRATAMENTOS DE EXCEÇÕES\n",
    "\n",
    "#### try:\n",
    "####     print(x)\n",
    "#### except:\n",
    "####     print(\"Erro\")\n",
    "#### ----------------\n",
    "#### try:\n",
    "####     print(x)\n",
    "#### except NameError:\n",
    "####     print(\"Erro\")\n",
    "\n"
   ]
  },
  {
   "cell_type": "code",
   "execution_count": 1,
   "metadata": {},
   "outputs": [],
   "source": [
    "notas = {'João': [8.0, 9.0, 10.0], 'Maria': [9.0, 7.0, 6.0], 'José': [3.4, 7.0, 8.0],'Cláudia': [5.5, 6.6, 8.0], 'Ana': [6.0, 10.0, 9.5], 'Joaquim': [5.5, 7.5, 9.0], 'Júlia': [6.0, 8.0, 7.0], 'Pedro': [3.0, 4.0, 6.0]}"
   ]
  },
  {
   "cell_type": "code",
   "execution_count": 4,
   "metadata": {},
   "outputs": [
    {
     "name": "stdout",
     "output_type": "stream",
     "text": [
      "Aluno não encontrado\n"
     ]
    }
   ],
   "source": [
    "# Clausula try-except - Trata o erro\n",
    "try:\n",
    "    nome = input(\"Digite o nome do aluno: \")    \n",
    "    print(notas[nome])\n",
    "except KeyError:\n",
    "    print(\"Aluno não encontrado\")\n"
   ]
  },
  {
   "cell_type": "code",
   "execution_count": 9,
   "metadata": {},
   "outputs": [
    {
     "name": "stdout",
     "output_type": "stream",
     "text": [
      "[3.0, 4.0, 6.0]\n",
      "Aluno encontrado\n"
     ]
    }
   ],
   "source": [
    "# Clausula else - Executa se não houver erro\n",
    "try:\n",
    "    nome = input(\"Digite o nome do aluno: \")    \n",
    "    print(notas[nome])\n",
    "except KeyError:\n",
    "    print(\"Aluno não encontrado\")\n",
    "else:\n",
    "    print(\"Aluno encontrado\")"
   ]
  },
  {
   "cell_type": "code",
   "execution_count": 10,
   "metadata": {},
   "outputs": [
    {
     "name": "stdout",
     "output_type": "stream",
     "text": [
      "[3.0, 4.0, 6.0]\n",
      "Fim do programa\n"
     ]
    }
   ],
   "source": [
    "# Clausula finally - Sempre executa\n",
    "try:\n",
    "    nome = input(\"Digite o nome do aluno: \")    \n",
    "    print(notas[nome])\n",
    "except KeyError:\n",
    "    print(\"Aluno não encontrado\")\n",
    "finally:\n",
    "    print(\"Fim do programa\")\n"
   ]
  },
  {
   "cell_type": "markdown",
   "metadata": {},
   "source": [
    "### Clausula raise - Gera um erro\n"
   ]
  },
  {
   "cell_type": "code",
   "execution_count": 21,
   "metadata": {},
   "outputs": [],
   "source": [
    "def media(lista):\n",
    "    ''' Função para calcular a média de notas passadas por uma lista\n",
    "\n",
    "    lista: list, default[0]\n",
    "        Lista com as notas para calcular a média\n",
    "        return calculo: float\n",
    "        Média calculada\n",
    "    '''\n",
    "\n",
    "    calculo = sum(lista) / len(lista)\n",
    "    \n",
    "    if len(lista) > 4:\n",
    "        raise ValueError(\"Lista com mais de 4 notas\")\n",
    "    \n",
    "    return calculo"
   ]
  },
  {
   "cell_type": "code",
   "execution_count": 24,
   "metadata": {},
   "outputs": [
    {
     "ename": "ValueError",
     "evalue": "Lista com mais de 4 notas",
     "output_type": "error",
     "traceback": [
      "\u001b[1;31m---------------------------------------------------------------------------\u001b[0m",
      "\u001b[1;31mValueError\u001b[0m                                Traceback (most recent call last)",
      "Cell \u001b[1;32mIn[24], line 2\u001b[0m\n\u001b[0;32m      1\u001b[0m notas \u001b[38;5;241m=\u001b[39m [\u001b[38;5;241m8.0\u001b[39m, \u001b[38;5;241m9.0\u001b[39m, \u001b[38;5;241m10.0\u001b[39m, \u001b[38;5;241m7.0\u001b[39m, \u001b[38;5;241m9.0\u001b[39m]\n\u001b[1;32m----> 2\u001b[0m \u001b[38;5;28mprint\u001b[39m(\u001b[43mmedia\u001b[49m\u001b[43m(\u001b[49m\u001b[43mnotas\u001b[49m\u001b[43m)\u001b[49m)\n",
      "Cell \u001b[1;32mIn[21], line 13\u001b[0m, in \u001b[0;36mmedia\u001b[1;34m(lista)\u001b[0m\n\u001b[0;32m     10\u001b[0m calculo \u001b[38;5;241m=\u001b[39m \u001b[38;5;28msum\u001b[39m(lista) \u001b[38;5;241m/\u001b[39m \u001b[38;5;28mlen\u001b[39m(lista)\n\u001b[0;32m     12\u001b[0m \u001b[38;5;28;01mif\u001b[39;00m \u001b[38;5;28mlen\u001b[39m(lista) \u001b[38;5;241m>\u001b[39m \u001b[38;5;241m4\u001b[39m:\n\u001b[1;32m---> 13\u001b[0m     \u001b[38;5;28;01mraise\u001b[39;00m \u001b[38;5;167;01mValueError\u001b[39;00m(\u001b[38;5;124m\"\u001b[39m\u001b[38;5;124mLista com mais de 4 notas\u001b[39m\u001b[38;5;124m\"\u001b[39m)\n\u001b[0;32m     15\u001b[0m \u001b[38;5;28;01mreturn\u001b[39;00m calculo\n",
      "\u001b[1;31mValueError\u001b[0m: Lista com mais de 4 notas"
     ]
    }
   ],
   "source": [
    "notas = [8.0, 9.0, 10.0, 7.0, 9.0]\n",
    "print(media(notas))\n",
    "\n",
    "# OUTPUT:\n",
    "# ValueError: Lista com mais de 4 notas"
   ]
  },
  {
   "cell_type": "code",
   "execution_count": 26,
   "metadata": {},
   "outputs": [
    {
     "ename": "TypeError",
     "evalue": "unsupported operand type(s) for +: 'float' and 'str'",
     "output_type": "error",
     "traceback": [
      "\u001b[1;31m---------------------------------------------------------------------------\u001b[0m",
      "\u001b[1;31mTypeError\u001b[0m                                 Traceback (most recent call last)",
      "Cell \u001b[1;32mIn[26], line 2\u001b[0m\n\u001b[0;32m      1\u001b[0m notas \u001b[38;5;241m=\u001b[39m [\u001b[38;5;241m8.0\u001b[39m, \u001b[38;5;241m9.0\u001b[39m, \u001b[38;5;241m10.0\u001b[39m, \u001b[38;5;241m7.0\u001b[39m, \u001b[38;5;124m'\u001b[39m\u001b[38;5;124m9.0\u001b[39m\u001b[38;5;124m'\u001b[39m]\n\u001b[1;32m----> 2\u001b[0m \u001b[38;5;28mprint\u001b[39m(\u001b[43mmedia\u001b[49m\u001b[43m(\u001b[49m\u001b[43mnotas\u001b[49m\u001b[43m)\u001b[49m)\n\u001b[0;32m      4\u001b[0m \u001b[38;5;66;03m# OUTPUT:\u001b[39;00m\n\u001b[0;32m      5\u001b[0m \u001b[38;5;66;03m# TypeError: unsupported operand type(s) for +: 'float' and 'str'\u001b[39;00m\n",
      "Cell \u001b[1;32mIn[21], line 10\u001b[0m, in \u001b[0;36mmedia\u001b[1;34m(lista)\u001b[0m\n\u001b[0;32m      1\u001b[0m \u001b[38;5;28;01mdef\u001b[39;00m \u001b[38;5;21mmedia\u001b[39m(lista):\n\u001b[0;32m      2\u001b[0m \u001b[38;5;250m    \u001b[39m\u001b[38;5;124;03m''' Função para calcular a média de notas passadas por uma lista\u001b[39;00m\n\u001b[0;32m      3\u001b[0m \n\u001b[0;32m      4\u001b[0m \u001b[38;5;124;03m    lista: list, default[0]\u001b[39;00m\n\u001b[1;32m   (...)\u001b[0m\n\u001b[0;32m      7\u001b[0m \u001b[38;5;124;03m        Média calculada\u001b[39;00m\n\u001b[0;32m      8\u001b[0m \u001b[38;5;124;03m    '''\u001b[39;00m\n\u001b[1;32m---> 10\u001b[0m     calculo \u001b[38;5;241m=\u001b[39m \u001b[38;5;28;43msum\u001b[39;49m\u001b[43m(\u001b[49m\u001b[43mlista\u001b[49m\u001b[43m)\u001b[49m \u001b[38;5;241m/\u001b[39m \u001b[38;5;28mlen\u001b[39m(lista)\n\u001b[0;32m     12\u001b[0m     \u001b[38;5;28;01mif\u001b[39;00m \u001b[38;5;28mlen\u001b[39m(lista) \u001b[38;5;241m>\u001b[39m \u001b[38;5;241m4\u001b[39m:\n\u001b[0;32m     13\u001b[0m         \u001b[38;5;28;01mraise\u001b[39;00m \u001b[38;5;167;01mValueError\u001b[39;00m(\u001b[38;5;124m\"\u001b[39m\u001b[38;5;124mLista com mais de 4 notas\u001b[39m\u001b[38;5;124m\"\u001b[39m)\n",
      "\u001b[1;31mTypeError\u001b[0m: unsupported operand type(s) for +: 'float' and 'str'"
     ]
    }
   ],
   "source": [
    "notas = [8.0, 9.0, 10.0, 7.0, '9.0']\n",
    "print(media(notas))\n",
    "\n",
    "# OUTPUT:\n",
    "# TypeError: unsupported operand type(s) for +: 'float' and 'str'"
   ]
  },
  {
   "cell_type": "code",
   "execution_count": 27,
   "metadata": {},
   "outputs": [
    {
     "name": "stdout",
     "output_type": "stream",
     "text": [
      "A média é: 8.5\n",
      "Fim do programa\n"
     ]
    }
   ],
   "source": [
    "try:\n",
    "    notas = [8.0, 9.0, 10.0, 7.0]\n",
    "    resultado = media(notas)\n",
    "except TypeError:\n",
    "    print('Não foi possível calcular a média')\n",
    "except ValueError as e:\n",
    "    print(e)\n",
    "else:\n",
    "    print(f'A média é: {resultado}')\n",
    "finally:\n",
    "    print('Fim do programa')\n"
   ]
  }
 ],
 "metadata": {
  "kernelspec": {
   "display_name": "Python 3",
   "language": "python",
   "name": "python3"
  },
  "language_info": {
   "codemirror_mode": {
    "name": "ipython",
    "version": 3
   },
   "file_extension": ".py",
   "mimetype": "text/x-python",
   "name": "python",
   "nbconvert_exporter": "python",
   "pygments_lexer": "ipython3",
   "version": "3.12.3"
  }
 },
 "nbformat": 4,
 "nbformat_minor": 2
}
