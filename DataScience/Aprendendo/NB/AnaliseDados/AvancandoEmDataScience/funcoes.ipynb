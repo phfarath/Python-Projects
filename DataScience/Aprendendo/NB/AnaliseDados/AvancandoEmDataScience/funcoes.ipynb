{
 "cells": [
  {
   "cell_type": "code",
   "execution_count": null,
   "metadata": {},
   "outputs": [
    {
     "name": "stdout",
     "output_type": "stream",
     "text": [
      "A média do estudante foi de 6.7\n"
     ]
    }
   ],
   "source": [
    "# Cálculo de média ponderada de certa matéria na escola\n",
    "N1 = float(input(\"Digite a 1º Nota do estudante: \"))\n",
    "N2 = float(input(\"Digite a 2º Nota do estudante: \"))\n",
    "N3 = float(input(\"Digite a 3º Nota do estudante: \"))\n",
    "\n",
    "media_ponderada = lambda n1, n2, n3: (n1*3 + n2*2 + n3*5)/10\n",
    "media_estudante = media_ponderada(N1, N2, N3)\n",
    "print(f'A média do estudante foi de {media_estudante}')"
   ]
  },
  {
   "cell_type": "code",
   "execution_count": 7,
   "metadata": {},
   "outputs": [
    {
     "data": {
      "text/plain": [
       "[8.5, 6.0, 7.2, 8.9, 4.8]"
      ]
     },
     "execution_count": 7,
     "metadata": {},
     "output_type": "execute_result"
    }
   ],
   "source": [
    "# Atrelando Lambda ao Map\n",
    "notas_ganhadores = [8.0, 5.5, 6.7, 8.4, 4.3]\n",
    "qualitativo = 0.5\n",
    "\n",
    "notas_atualizadas = map(lambda x: x + qualitativo, notas_ganhadores)\n",
    "\n",
    "# \n",
    "# <map at 0x15211203400>\n",
    "#\n",
    "\n",
    "# Convertendo para Lista\n",
    "notas_atualizadas = list(notas_atualizadas)\n",
    "notas_atualizadas"
   ]
  }
 ],
 "metadata": {
  "kernelspec": {
   "display_name": "base",
   "language": "python",
   "name": "python3"
  },
  "language_info": {
   "codemirror_mode": {
    "name": "ipython",
    "version": 3
   },
   "file_extension": ".py",
   "mimetype": "text/x-python",
   "name": "python",
   "nbconvert_exporter": "python",
   "pygments_lexer": "ipython3",
   "version": "3.11.7"
  }
 },
 "nbformat": 4,
 "nbformat_minor": 2
}
